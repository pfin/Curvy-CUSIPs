{
 "cells": [
  {
   "cell_type": "markdown",
   "metadata": {},
   "source": [
    "# DTCC SDR Data Fetcher\n",
    "This notebook demonstrates how to fetch and process DTCC SDR data using Pandas."
   ]
  },
  {
   "cell_type": "code",
   "execution_count": 1,
   "metadata": {},
   "outputs": [],
   "source": [
    "import requests\n",
    "import zipfile\n",
    "import io\n",
    "import pandas as pd\n",
    "from datetime import datetime\n",
    "\n",
    "def fetch_dtcc_data(date: datetime, agency: str, asset_class: str) -> pd.DataFrame:\n",
    "    url = f\"https://kgc0418-tdw-data-0.s3.amazonaws.com/{agency.lower()}/eod/{agency.upper()}_CUMULATIVE_{asset_class.upper()}_{date.strftime('%Y_%m_%d')}.zip\"\n",
    "    response = requests.get(url)\n",
    "    if response.status_code == 200:\n",
    "        with zipfile.ZipFile(io.BytesIO(response.content)) as z:\n",
    "            for filename in z.namelist():\n",
    "                if filename.endswith('.csv'):\n",
    "                    with z.open(filename) as f:\n",
    "                        df = pd.read_csv(f)\n",
    "                        return df\n",
    "    return pd.DataFrame()\n",
    "\n",
    "# Example usage\n",
    "date = datetime(2025, 1, 1)\n",
    "agency = \"CFTC\"\n",
    "asset_class = \"RATES\"\n",
    "df = fetch_dtcc_data(date, agency, asset_class)\n",
    "print(df.head())"
   ]
  }
 ],
 "metadata": {
  "kernelspec": {
   "display_name": "ycm_env",
   "language": "python",
   "name": "python3"
  },
  "language_info": {
   "codemirror_mode": {
    "name": "ipython",
    "version": 3
   },
   "file_extension": ".py",
   "mimetype": "text/x-python",
   "name": "python",
   "nbconvert_exporter": "python",
   "pygments_lexer": "ipython3",
   "version": "3.12.8"
  }
 },
 "nbformat": 4,
 "nbformat_minor": 5
}
